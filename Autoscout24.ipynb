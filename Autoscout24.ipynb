{
  "nbformat": 4,
  "nbformat_minor": 0,
  "metadata": {
    "colab": {
      "provenance": [],
      "toc_visible": true
    },
    "kernelspec": {
      "name": "python3",
      "display_name": "Python 3"
    },
    "language_info": {
      "name": "python"
    }
  },
  "cells": [
    {
      "cell_type": "markdown",
      "source": [
        "# Install a browser (Firefox) and a compatible driver\n"
      ],
      "metadata": {
        "id": "1hFWfjQGjY4R"
      }
    },
    {
      "cell_type": "code",
      "source": [
        "!wget -O firefox.tar.xz \"https://download.mozilla.org/?product=firefox-latest&os=linux64&lang=en-US\"\n",
        "!tar -xf firefox.tar.xz\n",
        "!mv firefox /usr/local/firefox\n",
        "!ln -s /usr/local/firefox/firefox /usr/bin/firefox"
      ],
      "metadata": {
        "id": "VQil9WJH15FK"
      },
      "execution_count": null,
      "outputs": []
    },
    {
      "cell_type": "code",
      "source": [
        "!wget -q \"https://github.com/mozilla/geckodriver/releases/latest/download/geckodriver-v0.35.0-linux64.tar.gz\"\n",
        "!tar -xvf geckodriver-v0.35.0-linux64.tar.gz\n",
        "!chmod +x geckodriver\n",
        "!mv geckodriver /usr/bin/geckodriver"
      ],
      "metadata": {
        "id": "Dd1lWaya82h7"
      },
      "execution_count": null,
      "outputs": []
    },
    {
      "cell_type": "markdown",
      "source": [
        "# Install selenium web driver"
      ],
      "metadata": {
        "id": "JuKuFexEj_kj"
      }
    },
    {
      "cell_type": "code",
      "source": [
        "!pip install selenium"
      ],
      "metadata": {
        "id": "jY2Z-VJ12y3c"
      },
      "execution_count": null,
      "outputs": []
    },
    {
      "cell_type": "code",
      "source": [
        "from selenium import webdriver\n",
        "from selenium.webdriver.firefox.service import Service\n",
        "from selenium.webdriver.firefox.options import Options\n",
        "\n",
        "# Configura Firefox in modalità headless\n",
        "firefox_options = Options()\n",
        "firefox_options.add_argument(\"--headless\")  # Necessario per Colab\n",
        "firefox_options.add_argument(\"--no-sandbox\")\n",
        "firefox_options.add_argument(\"--disable-dev-shm-usage\")\n",
        "firefox_options.binary_location = \"/usr/bin/firefox\"\n",
        "\n",
        "# Imposta il percorso di Geckodriver\n",
        "service = Service(\"/usr/bin/geckodriver\")\n",
        "\n",
        "# Avvia Firefox con Selenium\n",
        "driver = webdriver.Firefox(service=service, options=firefox_options)"
      ],
      "metadata": {
        "id": "_RhzEKQJ4TTz"
      },
      "execution_count": null,
      "outputs": []
    },
    {
      "cell_type": "markdown",
      "source": [
        "# Import necessary libraries"
      ],
      "metadata": {
        "id": "cWN08W1xkgpB"
      }
    },
    {
      "cell_type": "code",
      "execution_count": null,
      "metadata": {
        "id": "reBpreUhOrmZ"
      },
      "outputs": [],
      "source": [
        "from bs4 import BeautifulSoup\n",
        "import regex as re\n",
        "import pandas as pd\n",
        "from tqdm import tqdm"
      ]
    },
    {
      "cell_type": "markdown",
      "source": [
        "# Get base url according to user's criteria"
      ],
      "metadata": {
        "id": "YUTt6tBSl7sw"
      }
    },
    {
      "cell_type": "code",
      "source": [
        "prefix = 'https://www.autoscout24.it'\n",
        "base_url = \"https://www.autoscout24.it/lst?atype=C&cy=I&desc=0&doorfrom=4&doorto=5&eq=5&fregfrom=2010&gear=M&kmto=150000&lat=45.46362&lon=9.18812&powertype=kw&priceto=6000&search_id=114j0wszvq6&sort=standard&source=detailsearch&ustate=N%2CU&zip=milano&zipr=30\""
      ],
      "metadata": {
        "id": "ZTW6GX-MO0VE"
      },
      "execution_count": null,
      "outputs": []
    },
    {
      "cell_type": "code",
      "source": [
        "def send_request(url, driver):\n",
        "  driver.get(url)\n",
        "  soup = BeautifulSoup(driver.page_source, \"html.parser\")\n",
        "\n",
        "  return soup"
      ],
      "metadata": {
        "id": "r_J7gR5mcwte"
      },
      "execution_count": 2,
      "outputs": []
    },
    {
      "cell_type": "markdown",
      "source": [
        "# Start scraping offers"
      ],
      "metadata": {
        "id": "berYXNCdmSfI"
      }
    },
    {
      "cell_type": "code",
      "source": [
        "url = base_url + \"&page=1\"\n",
        "print(url)\n",
        "soup = send_request(url, driver)"
      ],
      "metadata": {
        "id": "t9vyuGnxO9Ub",
        "colab": {
          "base_uri": "https://localhost:8080/"
        },
        "outputId": "b9a9ab13-bca6-48b5-d919-6c4d16802d95"
      },
      "execution_count": null,
      "outputs": [
        {
          "output_type": "stream",
          "name": "stdout",
          "text": [
            "https://www.autoscout24.it/lst?atype=C&cy=I&desc=0&doorfrom=4&doorto=5&eq=5&fregfrom=2010&gear=M&kmto=150000&lat=45.46362&lon=9.18812&powertype=kw&priceto=6000&search_id=114j0wszvq6&sort=standard&source=detailsearch&ustate=N%2CU&zip=milano&zipr=30&page=1\n"
          ]
        }
      ]
    },
    {
      "cell_type": "code",
      "source": [
        "# get number of pages\n",
        "\n",
        "list_item = soup.find(\"li\", class_ = 'pagination-item--disabled pagination-item--page-indicator')\n",
        "num_pages = int(list_item.find('span').text.split(\"/\")[-1].strip())\n",
        "\n",
        "print(num_pages)"
      ],
      "metadata": {
        "colab": {
          "base_uri": "https://localhost:8080/"
        },
        "id": "FYcEPcPVPIMi",
        "outputId": "758a8e57-2415-4b05-fcae-95cdbe25da20"
      },
      "execution_count": null,
      "outputs": [
        {
          "output_type": "stream",
          "name": "stdout",
          "text": [
            "16\n"
          ]
        }
      ]
    },
    {
      "cell_type": "code",
      "source": [
        "# iterate over offers\n",
        "\n",
        "offers = []\n",
        "page_num = 1\n",
        "\n",
        "for page in tqdm(range(1,num_pages+1)):\n",
        "\n",
        "  print(f\"Start of page: {page}\\n\\n\")\n",
        "\n",
        "  # get all offers in the current page\n",
        "  main = soup.find(\"main\", class_ = \"ListPage_main___0g2X\")\n",
        "  current_offers = main.find_all(\"article\")\n",
        "  for offer in current_offers:\n",
        "\n",
        "    # get all relevant data\n",
        "    make = offer['data-make']\n",
        "    model = offer['data-model']\n",
        "    price = offer['data-price']\n",
        "    mileage = offer['data-mileage']\n",
        "    first_registration = offer['data-first-registration']\n",
        "\n",
        "    # data processing\n",
        "    make_model = make + ' ' + model\n",
        "    price = int(price)\n",
        "    mileage = int(mileage)\n",
        "    month_year = first_registration.split(\"-\")\n",
        "    month = month_year[0]\n",
        "    year = month_year[1]\n",
        "\n",
        "    link = prefix + offer.find('a', class_ = 'ListItem_title__ndA4s ListItem_title_new_design__QIU2b Link_link__Ajn7I')['href']\n",
        "\n",
        "    offer_dict = {\n",
        "        'Model': make_model,\n",
        "        'Price': price,\n",
        "        'Mileage': mileage,\n",
        "        'Month': month,\n",
        "        'Year': year,\n",
        "        'Link': link\n",
        "    }\n",
        "\n",
        "    # save the offer\n",
        "    offers.append(offer_dict)\n",
        "\n",
        "    # print the name of the car related to the offer\n",
        "    print(offer_dict['Model'])\n",
        "\n",
        "  # go to the next page\n",
        "  print(f\"\\n\\nEnd of page:{page}\\n----------------------------------- \")\n",
        "\n",
        "  url = base_url + f\"&page={page+1}\"\n",
        "\n",
        "  soup = send_request(url, driver)\n",
        "\n",
        "driver.quit()"
      ],
      "metadata": {
        "id": "-HYxVib9Rwvm"
      },
      "execution_count": null,
      "outputs": []
    },
    {
      "cell_type": "markdown",
      "source": [
        "# Save results\n",
        "\n"
      ],
      "metadata": {
        "id": "fHnEBi4imWSf"
      }
    },
    {
      "cell_type": "code",
      "source": [
        "# create and save dataframe as excel file\n",
        "\n",
        "df = pd.DataFrame(offers)\n",
        "df.to_excel('used_cars.xlsx', index=False)"
      ],
      "metadata": {
        "id": "bhCKZ43ld6-N"
      },
      "execution_count": null,
      "outputs": []
    },
    {
      "cell_type": "code",
      "source": [
        "df_sorted = df.sort_values(\n",
        "    by=['Mileage', 'Year', 'Month', 'Price'],\n",
        "    ascending=[True, False, False, True]\n",
        ")\n",
        "\n",
        "df_sorted.head()"
      ],
      "metadata": {
        "id": "FKfcrF4KDSMZ"
      },
      "execution_count": null,
      "outputs": []
    },
    {
      "cell_type": "code",
      "source": [
        "df_sorted.to_excel('used_cars_sorted.xlsx', index=False)"
      ],
      "metadata": {
        "id": "TYhn9XOkFzMP"
      },
      "execution_count": null,
      "outputs": []
    }
  ]
}